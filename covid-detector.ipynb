{
 "cells": [
  {
   "cell_type": "code",
   "execution_count": 100,
   "metadata": {},
   "outputs": [],
   "source": [
    "#Sid Cox spring 2020\n",
    "\n",
    "#tool to get the orfs: \n",
    "#ORFfinder -g 2 -s 1 -ml 150 -n true -in human_tf.fasta -out human_tf_orfs.fasta -outfmt 0\n",
    "# conda install nomkl numpy scipy scikit-learn numexpr\n",
    "# conda install -c bioconda hmmer \n",
    "# hmmscan --domtblout human_tf_domains.txt hmmdir/Pfam-A.hmm covid-detector/human_tf_cds.fasta \n",
    "\n",
    "#covid-detector data structure\n",
    "import pandas as pd\n",
    "import numpy as np\n",
    "import matplotlib.pyplot as plt #basic plotting is good enough here\n",
    "from Bio import SeqIO\n",
    "from Bio.Seq import Seq\n",
    "from Bio.Alphabet import IUPAC\n",
    "\n",
    "#load up the spreadsheet\n",
    "#df = pd.read_excel(\"DNA_TF_GO_prot.xlsx\")\n",
    "df = pd.read_excel(\"DNA_TF_GO_prot.xlsx\", sheet_name = \"DNA_TF_GO_Prot_toronto\")"
   ]
  },
  {
   "cell_type": "code",
   "execution_count": 218,
   "metadata": {},
   "outputs": [],
   "source": [
    "from Bio import SearchIO\n",
    "for qresult in SearchIO.parse('human_tf_domains.txt', 'hmmscan3-domtab'):\n",
    "    qresult.id"
   ]
  },
  {
   "cell_type": "code",
   "execution_count": 132,
   "metadata": {},
   "outputs": [
    {
     "data": {
      "text/plain": [
       "Seq('MET*PTALMSSTVAAAAPAAGAAS*KESPG*WGLGEDPTGVSPSLQCRVCGDSS...V*W', HasStopCodon(ExtendedIUPACProtein(), '*'))"
      ]
     },
     "execution_count": 132,
     "metadata": {},
     "output_type": "execute_result"
    }
   ],
   "source": [
    "cdsrecord.seq\n",
    "orfrecord.seq.translate(table=\"Vertebrate Mitochondrial\")\n",
    "    #something isn't lining up between the ORF and CDS"
   ]
  },
  {
   "cell_type": "code",
   "execution_count": 133,
   "metadata": {},
   "outputs": [],
   "source": [
    "#build some fasta files\n",
    "#loop through all the sequences and build a fasta file\n",
    "coding_dna = []\n",
    "cds = []\n",
    "ofile = open(\"human_tf_cds.fasta\", \"w\")\n",
    "for i in range(len(df['ENSG_ENST'])):\n",
    "    coding_dna.append(df['translated_sequence'][i])\n",
    "    cds.append(df['protein_sequence'][i])\n",
    "    if isinstance(df['protein_sequence'][i], str): #is the sequence a string or empty\n",
    "        ofile.write(df['ENSG_ENST'][i] + \"\\n\" + df['protein_sequence'][i] + \"\\n\")\n",
    "ofile.close() #do not forget to close it\n",
    "#write out to fasta\n",
    "ofile = open(\"human_tf_orf.fasta\", \"w\")\n",
    "for i in range(len(df['ENSG_ENST'])):\n",
    "    if isinstance(df['translated_sequence'][i], str): #is the sequence a string or empty\n",
    "        ofile.write(df['ENSG_ENST'][i] + \"\\n\" + df['translated_sequence'][i] + \"\\n\")\n",
    "ofile.close() #do not forget to close it\n",
    "\n",
    "#its easier to write out to fasta then import into seqrecord than to build one\n",
    "cdsfile = \"human_tf_cds.fasta\"\n",
    "orffile = \"human_tf_orf.fasta\"\n",
    "count =1\n",
    "for (orfrecord, cdsrecord) in zip(SeqIO.parse(orffile, \"fasta\"),SeqIO.parse(cdsfile, \"fasta\")):\n",
    "    count=count+1\n",
    "    coding_dna = orfrecord.seq\n",
    "    protein = coding_dna.translate(table=\"Vertebrate Mitochondrial\")"
   ]
  },
  {
   "cell_type": "code",
   "execution_count": 243,
   "metadata": {},
   "outputs": [],
   "source": [
    "class Transcript:\n",
    "    #primary transcripts of human TFs, will contain multiple isoforms and proteins    \n",
    "    def __init__(self, name):\n",
    "        self.name = name\n",
    "\n",
    "class Isoform:\n",
    "    #an isoform derived from a primary transcript, will generall contain one or zero proteins\n",
    "    def __init__(self, name):\n",
    "        self.name = name\n",
    "\n",
    "class TF:\n",
    "    #a protein sequence of a transcription factor\n",
    "    def __init__(self, name, dna, enst, ensg_enst, orf, aa, dbd, hgnc, motif_status, pfam):\n",
    "        self.ensemble_id = name\n",
    "        self.ensg_enst = ensg_enst\n",
    "        self.dna = dna #the isoform\n",
    "        self.orf = orf #the coding dna sequence, can replace with seqrecord\n",
    "        self.cds = aa #the amino acid sequence of this isoform\n",
    "        self.dbd = dbd #the dna binding domain\n",
    "        self.hgnc = hgnc\n",
    "        self.orf_len = len(orf)\n",
    "        self.over3kb = False\n",
    "        self.motif_status = motif_status\n",
    "        self.pfam = pfam\n",
    "        self.ch2h = False"
   ]
  },
  {
   "cell_type": "code",
   "execution_count": 244,
   "metadata": {},
   "outputs": [
    {
     "ename": "AttributeError",
     "evalue": "'str' object has no attribute 'ensg_enst'",
     "output_type": "error",
     "traceback": [
      "\u001b[0;31m---------------------------------------------------------------------------\u001b[0m",
      "\u001b[0;31mAttributeError\u001b[0m                            Traceback (most recent call last)",
      "\u001b[0;32m<ipython-input-244-5a16c03a38bc>\u001b[0m in \u001b[0;36m<module>\u001b[0;34m\u001b[0m\n\u001b[1;32m     16\u001b[0m \u001b[0mofile\u001b[0m \u001b[0;34m=\u001b[0m \u001b[0mopen\u001b[0m\u001b[0;34m(\u001b[0m\u001b[0;34m\"human_c2h2_cds.fasta\"\u001b[0m\u001b[0;34m,\u001b[0m \u001b[0;34m\"w\"\u001b[0m\u001b[0;34m)\u001b[0m\u001b[0;34m\u001b[0m\u001b[0;34m\u001b[0m\u001b[0m\n\u001b[1;32m     17\u001b[0m \u001b[0;32mfor\u001b[0m \u001b[0mtf\u001b[0m \u001b[0;32min\u001b[0m \u001b[0mc2h2\u001b[0m\u001b[0;34m:\u001b[0m\u001b[0;34m\u001b[0m\u001b[0;34m\u001b[0m\u001b[0m\n\u001b[0;32m---> 18\u001b[0;31m     \u001b[0mofile\u001b[0m\u001b[0;34m.\u001b[0m\u001b[0mwrite\u001b[0m\u001b[0;34m(\u001b[0m\u001b[0mtf\u001b[0m\u001b[0;34m.\u001b[0m\u001b[0mensg_enst\u001b[0m \u001b[0;34m+\u001b[0m \u001b[0;34m\"\\n\"\u001b[0m \u001b[0;34m+\u001b[0m \u001b[0mtf\u001b[0m\u001b[0;34m.\u001b[0m\u001b[0mcds\u001b[0m \u001b[0;34m+\u001b[0m \u001b[0;34m\"\\n\"\u001b[0m\u001b[0;34m)\u001b[0m\u001b[0;34m\u001b[0m\u001b[0;34m\u001b[0m\u001b[0m\n\u001b[0m\u001b[1;32m     19\u001b[0m \u001b[0mofile\u001b[0m\u001b[0;34m.\u001b[0m\u001b[0mclose\u001b[0m\u001b[0;34m(\u001b[0m\u001b[0;34m)\u001b[0m \u001b[0;31m#do not forget to close it\u001b[0m\u001b[0;34m\u001b[0m\u001b[0;34m\u001b[0m\u001b[0m\n",
      "\u001b[0;31mAttributeError\u001b[0m: 'str' object has no attribute 'ensg_enst'"
     ]
    }
   ],
   "source": [
    "tfs = {}\n",
    "c2h2 = {}\n",
    "for i in range(len(df)):\n",
    "    if isinstance(df['translated_sequence'][i], str): #discard if no protein\n",
    "        if df['Is TF?'][i] == 'Yes': #all should be true\n",
    "            if df['TF assessment'][i] == 'Known motif': #all should be true\n",
    "                if df.iloc[i,18] != 'Obligate_Multimer': #discard obligate multimers\n",
    "                    tf = TF(df['ensemblID'][i], df['sequence'][i], df['ENST'][i], df['ENSG_ENST'][i], df['translated_sequence'][i], df['protein_sequence'][i], df['DBD'][i],df['HGNC symbol'][i],df['Motif status'][i],df['Pfam Domains (By ENSP ID)'][i])\n",
    "                    if tf.orf_len > 3000:\n",
    "                        tf.over3b = True\n",
    "                    tf.c2h2 = df['Is C2H2 ZF(KRAB)?'][i]\n",
    "                    tfs[tf.ensemble_id]=tf\n",
    "                    if tf.c2h2:\n",
    "                        c2h2[tf.ensemble_id]=tf\n",
    "\n",
    "ofile = open(\"human_c2h2_cds.fasta\", \"w\")\n",
    "for key in c2h2:\n",
    "    ofile.write(c2h2[key].ensg_enst + \"\\n\" + c2h2[key].cds + \"\\n\")\n",
    "ofile.close() #do not forget to close it"
   ]
  },
  {
   "cell_type": "code",
   "execution_count": 247,
   "metadata": {},
   "outputs": [
    {
     "data": {
      "text/plain": [
       "<__main__.TF at 0x12a892210>"
      ]
     },
     "execution_count": 247,
     "metadata": {},
     "output_type": "execute_result"
    }
   ],
   "source": [
    "c2h2[tf]"
   ]
  },
  {
   "cell_type": "code",
   "execution_count": 207,
   "metadata": {},
   "outputs": [
    {
     "data": {
      "text/plain": [
       "'Obligate_Multimer'"
      ]
     },
     "execution_count": 207,
     "metadata": {},
     "output_type": "execute_result"
    }
   ],
   "source": [
    "df.iloc[i,18]"
   ]
  },
  {
   "cell_type": "code",
   "execution_count": 216,
   "metadata": {},
   "outputs": [
    {
     "data": {
      "text/plain": [
       "ensemblID                                                              ENSG00000001167\n",
       "ENST                                                                   ENST00000353205\n",
       "ENSG_ENST                                             >ENSG00000001167_ENST00000353205\n",
       "sequence                             CGGCAGTGGCGGCGGCAGCGGCGGCTGGAGCCTCTGATTGGGTTTC...\n",
       "HGNC symbol                                                                       NFYA\n",
       "DBD                                                                           CBF/NF-Y\n",
       "Is TF?                                                                             Yes\n",
       "TF assessment                                                              Known motif\n",
       "Binding mode                                                        Obligate heteromer\n",
       "Motif status                                                       In vivo/Misc source\n",
       "Final Notes                                                                       None\n",
       "Final Comments                                   Binds as a trimer with NFYB and NFYC.\n",
       "Interpro ID(s)                                                     IPR001289;IPR018362\n",
       "EntrezGene ID                                                                     4800\n",
       "EntrezGene Description               nuclear transcription factor Y subunit alpha [...\n",
       "PDB ID                                                                            4AWL\n",
       "TF tested by HT-SELEX?                                                             DBD\n",
       "TF tested by PBM?                                                           not tested\n",
       "Conditional Binding Requirements                                     Obligate_Multimer\n",
       "Original Comments                         obligate heterotrimer of NFYA, NFYB and NFYC\n",
       "Vaquerizas 2009 classification                                                       a\n",
       "CisBP considers it a TF?                                                           Yes\n",
       "TFCat classification                 TF Gene_DNA-Binding: sequence-specific_DNA Bin...\n",
       "Is a GO TF?                                                                        Yes\n",
       "Initial assessment                                             1a1, Direct HQ evidence\n",
       "Curator 1                                                                   Mihai Albu\n",
       "Curator 2                                                                Jussi Taipale\n",
       "TFclass considers it a TF?                                                         Yes\n",
       "Go Evidence                          $#ENSG00000001167#GO:0003700#sequence-specific...\n",
       "Pfam Domains (By ENSP ID)            $#ENSP00000345702#ENSG00000001167#ENST00000341...\n",
       "Is C2H2 ZF(KRAB)?                                                                False\n",
       "cellular_component                   GO:0016602; GO:0005634; GO:0005654; GO:0000790...\n",
       "cell_comp_names                      CCAAT-binding factor complex; nucleus; nucleop...\n",
       "biological_process                   GO:0006355; GO:0048511; GO:0045893; GO:0006366...\n",
       "bio_process_names                    regulation of transcription, DNA-templated; rh...\n",
       "molecular_function                   GO:0003677; GO:0003700; GO:0005515; GO:0000978...\n",
       "mol_func_names                       DNA binding; DNA-binding transcription factor ...\n",
       "without_domain                                                                     NaN\n",
       "wo_names                                                                           NaN\n",
       "translated_sequence                  ATGGAGCAGTATACAGCAAACAGCAATAGTTCGACAGAGCAGATTG...\n",
       "sequence_length                                                                    957\n",
       "protein_sequence                     MEQYTANSNSSTEQIVVQAGQIQQQVQGQPLMVQVSGGQLITSTGQ...\n",
       "protein_sequence_length                                                            318\n",
       "sequence_length_mult_3                                                            True\n",
       "interacts_with_SARS_COV2                                                         False\n",
       "Name: 0, dtype: object"
      ]
     },
     "execution_count": 216,
     "metadata": {},
     "output_type": "execute_result"
    }
   ],
   "source": [
    "df.iloc[0,:]"
   ]
  },
  {
   "cell_type": "code",
   "execution_count": 219,
   "metadata": {},
   "outputs": [
    {
     "ename": "ValueError",
     "evalue": "Length mismatch: Expected axis has 32 elements, new values have 16 elements",
     "output_type": "error",
     "traceback": [
      "\u001b[0;31m---------------------------------------------------------------------------\u001b[0m",
      "\u001b[0;31mValueError\u001b[0m                                Traceback (most recent call last)",
      "\u001b[0;32m<ipython-input-219-31a432574396>\u001b[0m in \u001b[0;36m<module>\u001b[0;34m\u001b[0m\n\u001b[1;32m     24\u001b[0m         \u001b[0mdf_hmmscan\u001b[0m \u001b[0;34m=\u001b[0m \u001b[0mdf_hmmscan\u001b[0m\u001b[0;34m.\u001b[0m\u001b[0msort_values\u001b[0m\u001b[0;34m(\u001b[0m\u001b[0msort_values\u001b[0m\u001b[0;34m,\u001b[0m \u001b[0mascending\u001b[0m\u001b[0;34m=\u001b[0m\u001b[0;32mTrue\u001b[0m\u001b[0;34m)\u001b[0m\u001b[0;34m\u001b[0m\u001b[0;34m\u001b[0m\u001b[0m\n\u001b[1;32m     25\u001b[0m     \u001b[0;32mreturn\u001b[0m \u001b[0mdf_hmmscan\u001b[0m\u001b[0;34m\u001b[0m\u001b[0;34m\u001b[0m\u001b[0m\n\u001b[0;32m---> 26\u001b[0;31m \u001b[0mdf2\u001b[0m \u001b[0;34m=\u001b[0m \u001b[0mread_hmmscan\u001b[0m\u001b[0;34m(\u001b[0m\u001b[0;34m\"human_tf_domains.txt\"\u001b[0m\u001b[0;34m)\u001b[0m\u001b[0;34m\u001b[0m\u001b[0;34m\u001b[0m\u001b[0m\n\u001b[0m",
      "\u001b[0;32m<ipython-input-219-31a432574396>\u001b[0m in \u001b[0;36mread_hmmscan\u001b[0;34m(path, set_index, sort_values)\u001b[0m\n\u001b[1;32m     13\u001b[0m     \u001b[0mdomain_cols\u001b[0m \u001b[0;34m=\u001b[0m \u001b[0;34m[\u001b[0m\u001b[0;34m\"domain|_|e-value\"\u001b[0m\u001b[0;34m,\u001b[0m \u001b[0;34m\"domain|_|score\"\u001b[0m\u001b[0;34m,\u001b[0m \u001b[0;34m\"domain|_|bias\"\u001b[0m\u001b[0;34m]\u001b[0m\u001b[0;34m\u001b[0m\u001b[0;34m\u001b[0m\u001b[0m\n\u001b[1;32m     14\u001b[0m     \u001b[0mmisc_cols\u001b[0m \u001b[0;34m=\u001b[0m \u001b[0;34m[\u001b[0m\u001b[0;34m\"exp\"\u001b[0m\u001b[0;34m,\u001b[0m \u001b[0;34m\"reg\"\u001b[0m\u001b[0;34m,\u001b[0m \u001b[0;34m\"clu\"\u001b[0m\u001b[0;34m,\u001b[0m \u001b[0;34m\"ov\"\u001b[0m\u001b[0;34m,\u001b[0m \u001b[0;34m\"env\"\u001b[0m\u001b[0;34m,\u001b[0m \u001b[0;34m\"dom\"\u001b[0m\u001b[0;34m,\u001b[0m \u001b[0;34m\"rep\"\u001b[0m\u001b[0;34m,\u001b[0m \u001b[0;34m\"inc\"\u001b[0m\u001b[0;34m]\u001b[0m\u001b[0;34m\u001b[0m\u001b[0;34m\u001b[0m\u001b[0m\n\u001b[0;32m---> 15\u001b[0;31m     \u001b[0mdf_hmmscan\u001b[0m\u001b[0;34m.\u001b[0m\u001b[0mcolumns\u001b[0m  \u001b[0;34m=\u001b[0m \u001b[0mid_cols\u001b[0m \u001b[0;34m+\u001b[0m \u001b[0msequence_cols\u001b[0m \u001b[0;34m+\u001b[0m \u001b[0mdomain_cols\u001b[0m \u001b[0;34m+\u001b[0m \u001b[0mmisc_cols\u001b[0m\u001b[0;34m\u001b[0m\u001b[0;34m\u001b[0m\u001b[0m\n\u001b[0m\u001b[1;32m     16\u001b[0m     \u001b[0;31m# Force types\u001b[0m\u001b[0;34m\u001b[0m\u001b[0;34m\u001b[0m\u001b[0;34m\u001b[0m\u001b[0m\n\u001b[1;32m     17\u001b[0m     \u001b[0mdf_hmmscan\u001b[0m\u001b[0;34m.\u001b[0m\u001b[0mloc\u001b[0m\u001b[0;34m[\u001b[0m\u001b[0;34m:\u001b[0m\u001b[0;34m,\u001b[0m\u001b[0msequence_cols\u001b[0m \u001b[0;34m+\u001b[0m \u001b[0mdomain_cols\u001b[0m\u001b[0;34m]\u001b[0m \u001b[0;34m=\u001b[0m \u001b[0mdf_hmmscan\u001b[0m\u001b[0;34m.\u001b[0m\u001b[0mloc\u001b[0m\u001b[0;34m[\u001b[0m\u001b[0;34m:\u001b[0m\u001b[0;34m,\u001b[0m\u001b[0msequence_cols\u001b[0m \u001b[0;34m+\u001b[0m \u001b[0mdomain_cols\u001b[0m\u001b[0;34m]\u001b[0m\u001b[0;34m.\u001b[0m\u001b[0mastype\u001b[0m\u001b[0;34m(\u001b[0m\u001b[0mfloat\u001b[0m\u001b[0;34m)\u001b[0m\u001b[0;34m\u001b[0m\u001b[0;34m\u001b[0m\u001b[0m\n",
      "\u001b[0;32m~/miniconda3/lib/python3.7/site-packages/pandas/core/generic.py\u001b[0m in \u001b[0;36m__setattr__\u001b[0;34m(self, name, value)\u001b[0m\n\u001b[1;32m   5285\u001b[0m         \u001b[0;32mtry\u001b[0m\u001b[0;34m:\u001b[0m\u001b[0;34m\u001b[0m\u001b[0;34m\u001b[0m\u001b[0m\n\u001b[1;32m   5286\u001b[0m             \u001b[0mobject\u001b[0m\u001b[0;34m.\u001b[0m\u001b[0m__getattribute__\u001b[0m\u001b[0;34m(\u001b[0m\u001b[0mself\u001b[0m\u001b[0;34m,\u001b[0m \u001b[0mname\u001b[0m\u001b[0;34m)\u001b[0m\u001b[0;34m\u001b[0m\u001b[0;34m\u001b[0m\u001b[0m\n\u001b[0;32m-> 5287\u001b[0;31m             \u001b[0;32mreturn\u001b[0m \u001b[0mobject\u001b[0m\u001b[0;34m.\u001b[0m\u001b[0m__setattr__\u001b[0m\u001b[0;34m(\u001b[0m\u001b[0mself\u001b[0m\u001b[0;34m,\u001b[0m \u001b[0mname\u001b[0m\u001b[0;34m,\u001b[0m \u001b[0mvalue\u001b[0m\u001b[0;34m)\u001b[0m\u001b[0;34m\u001b[0m\u001b[0;34m\u001b[0m\u001b[0m\n\u001b[0m\u001b[1;32m   5288\u001b[0m         \u001b[0;32mexcept\u001b[0m \u001b[0mAttributeError\u001b[0m\u001b[0;34m:\u001b[0m\u001b[0;34m\u001b[0m\u001b[0;34m\u001b[0m\u001b[0m\n\u001b[1;32m   5289\u001b[0m             \u001b[0;32mpass\u001b[0m\u001b[0;34m\u001b[0m\u001b[0;34m\u001b[0m\u001b[0m\n",
      "\u001b[0;32mpandas/_libs/properties.pyx\u001b[0m in \u001b[0;36mpandas._libs.properties.AxisProperty.__set__\u001b[0;34m()\u001b[0m\n",
      "\u001b[0;32m~/miniconda3/lib/python3.7/site-packages/pandas/core/generic.py\u001b[0m in \u001b[0;36m_set_axis\u001b[0;34m(self, axis, labels)\u001b[0m\n\u001b[1;32m    659\u001b[0m \u001b[0;34m\u001b[0m\u001b[0m\n\u001b[1;32m    660\u001b[0m     \u001b[0;32mdef\u001b[0m \u001b[0m_set_axis\u001b[0m\u001b[0;34m(\u001b[0m\u001b[0mself\u001b[0m\u001b[0;34m,\u001b[0m \u001b[0maxis\u001b[0m\u001b[0;34m,\u001b[0m \u001b[0mlabels\u001b[0m\u001b[0;34m)\u001b[0m \u001b[0;34m->\u001b[0m \u001b[0;32mNone\u001b[0m\u001b[0;34m:\u001b[0m\u001b[0;34m\u001b[0m\u001b[0;34m\u001b[0m\u001b[0m\n\u001b[0;32m--> 661\u001b[0;31m         \u001b[0mself\u001b[0m\u001b[0;34m.\u001b[0m\u001b[0m_data\u001b[0m\u001b[0;34m.\u001b[0m\u001b[0mset_axis\u001b[0m\u001b[0;34m(\u001b[0m\u001b[0maxis\u001b[0m\u001b[0;34m,\u001b[0m \u001b[0mlabels\u001b[0m\u001b[0;34m)\u001b[0m\u001b[0;34m\u001b[0m\u001b[0;34m\u001b[0m\u001b[0m\n\u001b[0m\u001b[1;32m    662\u001b[0m         \u001b[0mself\u001b[0m\u001b[0;34m.\u001b[0m\u001b[0m_clear_item_cache\u001b[0m\u001b[0;34m(\u001b[0m\u001b[0;34m)\u001b[0m\u001b[0;34m\u001b[0m\u001b[0;34m\u001b[0m\u001b[0m\n\u001b[1;32m    663\u001b[0m \u001b[0;34m\u001b[0m\u001b[0m\n",
      "\u001b[0;32m~/miniconda3/lib/python3.7/site-packages/pandas/core/internals/managers.py\u001b[0m in \u001b[0;36mset_axis\u001b[0;34m(self, axis, new_labels)\u001b[0m\n\u001b[1;32m    176\u001b[0m         \u001b[0;32mif\u001b[0m \u001b[0mnew_len\u001b[0m \u001b[0;34m!=\u001b[0m \u001b[0mold_len\u001b[0m\u001b[0;34m:\u001b[0m\u001b[0;34m\u001b[0m\u001b[0;34m\u001b[0m\u001b[0m\n\u001b[1;32m    177\u001b[0m             raise ValueError(\n\u001b[0;32m--> 178\u001b[0;31m                 \u001b[0;34mf\"Length mismatch: Expected axis has {old_len} elements, new \"\u001b[0m\u001b[0;34m\u001b[0m\u001b[0;34m\u001b[0m\u001b[0m\n\u001b[0m\u001b[1;32m    179\u001b[0m                 \u001b[0;34mf\"values have {new_len} elements\"\u001b[0m\u001b[0;34m\u001b[0m\u001b[0;34m\u001b[0m\u001b[0m\n\u001b[1;32m    180\u001b[0m             )\n",
      "\u001b[0;31mValueError\u001b[0m: Length mismatch: Expected axis has 32 elements, new values have 16 elements"
     ]
    }
   ],
   "source": [
    "def read_hmmscan(path, set_index=\"query_name\", sort_values=\"sequence|_|e-value\"):\n",
    "    # Build pd.DataFrame\n",
    "    df_tmp = pd.read_table(path, header=None, index_col=0)\n",
    "    mask_idx = df_tmp.index.map(lambda x: x.startswith(\"#\") == False)\n",
    "    tmp_list = df_tmp.loc[mask_idx,:].index.map(lambda x: [y for y in x.split(\" \") if (len(y) > 0) and (y != \"-\")]).tolist()\n",
    "    data = list()\n",
    "    for line in tmp_list:\n",
    "        data.append(pd.Series(line))\n",
    "    df_hmmscan = pd.DataFrame(data)\n",
    "    # Labels\n",
    "    id_cols = [\"target_name\", \"query_name\"]\n",
    "    sequence_cols = [\"sequence|_|e-value\", \"sequence|_|score\", \"sequence|_|bias\"]\n",
    "    domain_cols = [\"domain|_|e-value\", \"domain|_|score\", \"domain|_|bias\"]\n",
    "    misc_cols = [\"exp\", \"reg\", \"clu\", \"ov\", \"env\", \"dom\", \"rep\", \"inc\"]\n",
    "    df_hmmscan.columns  = id_cols + sequence_cols + domain_cols + misc_cols\n",
    "    # Force types\n",
    "    df_hmmscan.loc[:,sequence_cols + domain_cols] = df_hmmscan.loc[:,sequence_cols + domain_cols].astype(float)\n",
    "    df_hmmscan.loc[:,\"exp\"] = df_hmmscan.loc[:,\"exp\"].astype(float)\n",
    "    df_hmmscan.loc[:,misc_cols[1:]] = df_hmmscan.loc[:,misc_cols[1:]].astype(int)\n",
    "    # Reformat structure\n",
    "    if set_index:\n",
    "        df_hmmscan = df_hmmscan.set_index(set_index)\n",
    "    if sort_values:\n",
    "        df_hmmscan = df_hmmscan.sort_values(sort_values, ascending=True)\n",
    "    return df_hmmscan\n",
    "df2 = read_hmmscan(\"human_tf_domains.txt\")"
   ]
  },
  {
   "cell_type": "code",
   "execution_count": null,
   "metadata": {},
   "outputs": [],
   "source": []
  }
 ],
 "metadata": {
  "kernelspec": {
   "display_name": "Python 3",
   "language": "python",
   "name": "python3"
  },
  "language_info": {
   "codemirror_mode": {
    "name": "ipython",
    "version": 3
   },
   "file_extension": ".py",
   "mimetype": "text/x-python",
   "name": "python",
   "nbconvert_exporter": "python",
   "pygments_lexer": "ipython3",
   "version": "3.7.6"
  }
 },
 "nbformat": 4,
 "nbformat_minor": 4
}
