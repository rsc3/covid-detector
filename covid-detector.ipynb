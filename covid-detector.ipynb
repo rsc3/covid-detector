{
 "cells": [
  {
   "cell_type": "code",
   "execution_count": 100,
   "metadata": {},
   "outputs": [],
   "source": [
    "#Sid Cox spring 2020\n",
    "\n",
    "#tool to get the orfs: \n",
    "#ORFfinder -g 2 -s 1 -ml 150 -n true -in human_tf.fasta -out human_tf_orfs.fasta -outfmt 0\n",
    "# conda install nomkl numpy scipy scikit-learn numexpr\n",
    "# conda install -c bioconda hmmer \n",
    "# hmmscan --domtblout human_tf_domains.txt hmmdir/Pfam-A.hmm covid-detector/human_tf_cds.fasta \n",
    "\n",
    "#covid-detector data structure\n",
    "import pandas as pd\n",
    "import numpy as np\n",
    "import matplotlib.pyplot as plt #basic plotting is good enough here\n",
    "from Bio import SeqIO\n",
    "from Bio.Seq import Seq\n",
    "from Bio.Alphabet import IUPAC\n",
    "\n",
    "#load up the spreadsheet\n",
    "#df = pd.read_excel(\"covid-detector/Human\\ Transcription\\ Factors.xlsx \")\n",
    "\n",
    "df = pd.read_excel(\"DNA_TF_GO_prot.xlsx\")"
   ]
  },
  {
   "cell_type": "code",
   "execution_count": 101,
   "metadata": {},
   "outputs": [],
   "source": [
    "from Bio import SearchIO\n",
    "for qresult in SearchIO.parse('human_tf_domains.txt', 'hmmscan3-domtab'):\n",
    "    qresult.id"
   ]
  },
  {
   "cell_type": "code",
   "execution_count": 65,
   "metadata": {
    "jupyter": {
     "source_hidden": true
    }
   },
   "outputs": [],
   "source": [
    "def read_hmmscan(path, set_index=\"query_name\", sort_values=\"sequence|_|e-value\"):\n",
    "    # Build pd.DataFrame\n",
    "    df_tmp = pd.read_table(path, header=None, index_col=0)\n",
    "    mask_idx = df_tmp.index.map(lambda x: x.startswith(\"#\") == False)\n",
    "    tmp_list = df_tmp.loc[mask_idx,:].index.map(lambda x: [y for y in x.split(\" \") if (len(y) > 0) and (y != \"-\")]).tolist()\n",
    "    data = list()\n",
    "    for line in tmp_list:\n",
    "        data.append(pd.Series(line))\n",
    "    df_hmmscan = pd.DataFrame(data)\n",
    "    # Labels\n",
    "    id_cols = [\"target_name\", \"query_name\"]\n",
    "    sequence_cols = [\"sequence|_|e-value\", \"sequence|_|score\", \"sequence|_|bias\"]\n",
    "    domain_cols = [\"domain|_|e-value\", \"domain|_|score\", \"domain|_|bias\"]\n",
    "    misc_cols = [\"exp\", \"reg\", \"clu\", \"ov\", \"env\", \"dom\", \"rep\", \"inc\"]\n",
    "    df_hmmscan.columns  = id_cols + sequence_cols + domain_cols + misc_cols\n",
    "    # Force types\n",
    "    df_hmmscan.loc[:,sequence_cols + domain_cols] = df_hmmscan.loc[:,sequence_cols + domain_cols].astype(float)\n",
    "    df_hmmscan.loc[:,\"exp\"] = df_hmmscan.loc[:,\"exp\"].astype(float)\n",
    "    df_hmmscan.loc[:,misc_cols[1:]] = df_hmmscan.loc[:,misc_cols[1:]].astype(int)\n",
    "    # Reformat structure\n",
    "    if set_index:\n",
    "        df_hmmscan = df_hmmscan.set_index(set_index)\n",
    "    if sort_values:\n",
    "        df_hmmscan = df_hmmscan.sort_values(sort_values, ascending=True)\n",
    "    return df_hmmscan\n",
    "df2 = read_hmmscan(\"human_tf_domains.txt\")"
   ]
  },
  {
   "cell_type": "code",
   "execution_count": null,
   "metadata": {},
   "outputs": [],
   "source": [
    "#pull in the fasta\n",
    "short_sequences = [] # Setup an empty list\n",
    "\n",
    "seqfile = \"my_fasta.txt\"\n",
    "count =1\n",
    "for record in SeqIO.parse(seqfile, \"fasta\"):\n",
    "    #print(record.id)\n",
    "    count=count+1\n",
    "    coding_dna = record.seq\n",
    "    protein = coding_dna.translate(table=\"Vertebrate Mitochondrial\")\n",
    "    pr_tostop1 = coding_dna.translate(to_stop=True,table=\"Vertebrate Mitochondrial\")\n",
    "    pr_tostop2 = coding_dna[1:].translate(to_stop=True,table=\"Vertebrate Mitochondrial\")\n",
    "    pr_tostop3 = coding_dna[2:].translate(to_stop=True,table=\"Vertebrate Mitochondrial\")\n",
    "\n",
    "    #print(protein)\n",
    "    print(pr_tostop1)\n",
    "    print(pr_tostop2)\n",
    "    print(pr_tostop3)\n",
    "    print(\"\")\n",
    "\n",
    "    if len(record.seq) < 3000 :\n",
    "        # Add this record to our list\n",
    "        short_sequences.append(record)\n",
    "#print(count)\n",
    "\n",
    "print(\"Found %i short sequences\" % len(short_sequences))\n",
    "SeqIO.write(short_sequences, \"short_seqs.fasta\", \"fasta\")"
   ]
  },
  {
   "cell_type": "code",
   "execution_count": 126,
   "metadata": {},
   "outputs": [],
   "source": [
    "df = pd.read_excel(\"DNA_TF_GO_prot.xlsx\", sheet_name = \"DNA_TF_GO_Prot_toronto\")\n",
    "df['translated_sequence']\n",
    "df['protein_sequence']\n",
    "\n",
    "#loop through all the sequences and build a fasta file\n",
    "coding_dna = []\n",
    "cds = []\n",
    "ofile = open(\"human_tf_cds.fasta\", \"w\")\n",
    "for i in range(len(df['ENSG_ENST'])):\n",
    "    coding_dna.append(df['translated_sequence'][i])\n",
    "    cds.append(df['protein_sequence'][i])\n",
    "    if isinstance(df['protein_sequence'][i], str): #is the sequence a string or empty\n",
    "        ofile.write(df['ENSG_ENST'][i] + \"\\n\" + df['protein_sequence'][i] + \"\\n\")\n",
    "ofile.close() #do not forget to close it\n",
    "#write out to fasta\n",
    "ofile = open(\"human_tf_orf.fasta\", \"w\")\n",
    "for i in range(len(df['ENSG_ENST'])):\n",
    "    if isinstance(df['translated_sequence'][i], str): #is the sequence a string or empty\n",
    "        ofile.write(df['ENSG_ENST'][i] + \"\\n\" + df['translated_sequence'][i] + \"\\n\")\n",
    "ofile.close() #do not forget to close it\n",
    "\n",
    "#its easier to write out to fasta then import into seqrecord than to build one\n",
    "cdsfile = \"human_tf_cds.fasta\"\n",
    "orffile = \"human_tf_orf.fasta\"\n",
    "count =1\n",
    "for (orfrecord, cdsrecord) in zip(SeqIO.parse(orffile, \"fasta\"),SeqIO.parse(cdsfile, \"fasta\")):\n",
    "    count=count+1\n",
    "    coding_dna = orfrecord.seq\n",
    "    protein = coding_dna.translate(table=\"Vertebrate Mitochondrial\")"
   ]
  },
  {
   "cell_type": "code",
   "execution_count": 132,
   "metadata": {},
   "outputs": [
    {
     "data": {
      "text/plain": [
       "Seq('MET*PTALMSSTVAAAAPAAGAAS*KESPG*WGLGEDPTGVSPSLQCRVCGDSS...V*W', HasStopCodon(ExtendedIUPACProtein(), '*'))"
      ]
     },
     "execution_count": 132,
     "metadata": {},
     "output_type": "execute_result"
    }
   ],
   "source": [
    "cdsrecord.seq\n",
    "orfrecord.seq.translate(table=\"Vertebrate Mitochondrial\")\n",
    "    #something isn't lining up between the ORF and CDS"
   ]
  },
  {
   "cell_type": "code",
   "execution_count": null,
   "metadata": {},
   "outputs": [],
   "source": [
    "class Transcript:\n",
    "    #primary transcripts of human TFs, will contain multiple isoforms and proteins    \n",
    "    def __init__(self, name):\n",
    "        self.name = name\n",
    "\n",
    "class Isoform:\n",
    "    #an isoform derived from a primary transcript, will generall contain one or zero proteins\n",
    "    def __init__(self, name):\n",
    "        self.name = name\n",
    "\n",
    "class TF:\n",
    "    #a protein sequence of a transcription factor\n",
    "    def __init__(self, name, dna):\n",
    "        self.name = name\n",
    "        self.dna = dna #the coding dna sequence\n",
    "        self.aa = \"\" #the amino acid sequence of this isoform\n",
    "        self.dbd = \"\" #the dna binding domain"
   ]
  },
  {
   "cell_type": "code",
   "execution_count": null,
   "metadata": {},
   "outputs": [],
   "source": []
  }
 ],
 "metadata": {
  "kernelspec": {
   "display_name": "Python 3",
   "language": "python",
   "name": "python3"
  },
  "language_info": {
   "codemirror_mode": {
    "name": "ipython",
    "version": 3
   },
   "file_extension": ".py",
   "mimetype": "text/x-python",
   "name": "python",
   "nbconvert_exporter": "python",
   "pygments_lexer": "ipython3",
   "version": "3.7.6"
  }
 },
 "nbformat": 4,
 "nbformat_minor": 4
}
