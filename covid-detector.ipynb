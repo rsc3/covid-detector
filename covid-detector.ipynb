{
 "cells": [
  {
   "cell_type": "code",
   "execution_count": 14,
   "metadata": {},
   "outputs": [
    {
     "name": "stdout",
     "output_type": "stream",
     "text": [
      "8625\n",
      "Found 6776 short sequences\n"
     ]
    },
    {
     "data": {
      "text/plain": [
       "6776"
      ]
     },
     "execution_count": 14,
     "metadata": {},
     "output_type": "execute_result"
    }
   ],
   "source": [
    "#Sid Cox spring 2020\n",
    "\n",
    "#covid-detector data structure\n",
    "import pandas as pd\n",
    "import numpy as np\n",
    "import matplotlib.pyplot as plt #basic plotting is good enough here\n",
    "from Bio import SeqIO\n",
    "\n",
    "\n",
    "#load up the spreadsheet\n",
    "#df = pd.read_excel(\"covid-detector/Human\\ Transcription\\ Factors.xlsx \")\n",
    "\n",
    "#pull in the fasta\n",
    "short_sequences = [] # Setup an empty list\n",
    "\n",
    "seqfile = \"human_tf.fasta\"\n",
    "count =1\n",
    "for record in SeqIO.parse(seqfile, \"fasta\"):\n",
    "    #print(record.id)\n",
    "    count=count+1\n",
    "    if len(record.seq) < 3000 :\n",
    "        # Add this record to our list\n",
    "        short_sequences.append(record)\n",
    "print(count)\n",
    "\n",
    "print(\"Found %i short sequences\" % len(short_sequences))\n",
    "\n",
    "SeqIO.write(short_sequences, \"short_seqs.fasta\", \"fasta\")"
   ]
  },
  {
   "cell_type": "code",
   "execution_count": null,
   "metadata": {},
   "outputs": [],
   "source": [
    "class Transcript:\n",
    "    #primary transcripts of human TFs, will contain multiple isoforms and proteins    \n",
    "    def __init__(self, name):\n",
    "        self.name = name\n",
    "\n",
    "class Isoform:\n",
    "    #an isoform derived from a primary transcript, will generall contain one or zero proteins\n",
    "    def __init__(self, name):\n",
    "        self.name = name\n",
    "\n",
    "class TF:\n",
    "    #a  sequence of a transcription factor\n",
    "    def __init__(self, name, dna):\n",
    "        self.name = name\n",
    "        self.dna = dna #the dna sequence\n",
    "        self.aa = \"\" #the amino acid sequence"
   ]
  }
 ],
 "metadata": {
  "kernelspec": {
   "display_name": "Python 3",
   "language": "python",
   "name": "python3"
  },
  "language_info": {
   "codemirror_mode": {
    "name": "ipython",
    "version": 3
   },
   "file_extension": ".py",
   "mimetype": "text/x-python",
   "name": "python",
   "nbconvert_exporter": "python",
   "pygments_lexer": "ipython3",
   "version": "3.7.6"
  }
 },
 "nbformat": 4,
 "nbformat_minor": 4
}
