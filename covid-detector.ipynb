{
 "cells": [
  {
   "cell_type": "code",
   "execution_count": 60,
   "metadata": {},
   "outputs": [],
   "source": [
    "#Sid Cox spring 2020\n",
    "\n",
    "#tool to get the orfs: \n",
    "#ORFfinder -g 2 -s 1 -ml 150 -n true -in human_tf.fasta -out human_tf_orfs.fasta -outfmt 0\n",
    "\n",
    "# conda install -c bioconda hmmer \n",
    "\n",
    "#covid-detector data structure\n",
    "import pandas as pd\n",
    "import numpy as np\n",
    "import matplotlib.pyplot as plt #basic plotting is good enough here\n",
    "from Bio import SeqIO\n",
    "from Bio.Seq import Seq\n",
    "from Bio.Alphabet import IUPAC\n",
    "\n",
    "#load up the spreadsheet\n",
    "#df = pd.read_excel(\"covid-detector/Human\\ Transcription\\ Factors.xlsx \")\n",
    "\n",
    "df = pd.read_excel(\"DNA_TF_GO_prot.xlsx\")"
   ]
  },
  {
   "cell_type": "code",
   "execution_count": null,
   "metadata": {},
   "outputs": [],
   "source": [
    "#pull in the fasta\n",
    "short_sequences = [] # Setup an empty list\n",
    "\n",
    "seqfile = \"my_fasta.txt\"\n",
    "count =1\n",
    "for record in SeqIO.parse(seqfile, \"fasta\"):\n",
    "    #print(record.id)\n",
    "    count=count+1\n",
    "    coding_dna = record.seq\n",
    "    protein = coding_dna.translate(table=\"Vertebrate Mitochondrial\")\n",
    "    pr_tostop1 = coding_dna.translate(to_stop=True,table=\"Vertebrate Mitochondrial\")\n",
    "    pr_tostop2 = coding_dna[1:].translate(to_stop=True,table=\"Vertebrate Mitochondrial\")\n",
    "    pr_tostop3 = coding_dna[2:].translate(to_stop=True,table=\"Vertebrate Mitochondrial\")\n",
    "\n",
    "    #print(protein)\n",
    "    print(pr_tostop1)\n",
    "    print(pr_tostop2)\n",
    "    print(pr_tostop3)\n",
    "    print(\"\")\n",
    "\n",
    "    if len(record.seq) < 3000 :\n",
    "        # Add this record to our list\n",
    "        short_sequences.append(record)\n",
    "#print(count)\n",
    "\n",
    "print(\"Found %i short sequences\" % len(short_sequences))\n",
    "SeqIO.write(short_sequences, \"short_seqs.fasta\", \"fasta\")"
   ]
  },
  {
   "cell_type": "code",
   "execution_count": 61,
   "metadata": {},
   "outputs": [
    {
     "data": {
      "text/plain": [
       "0       MEQYTANSNSSTEQIVVQAGQIQQQVQGQPLMVQVSGGQLITSTGQ...\n",
       "1       MEQYTANSNSSTEQIVVQAGQIQQQQQGGVTAVQLQTEAQVASASG...\n",
       "2       MSNQYQEEGCSERPECKSKSPTLLSSYCIDSILGRRSPCKMRLLGA...\n",
       "3        XTFLGAAVFRHPAFISPAFGRLHLPCHSSDPLPTTPPYVQAPIYTAVQ\n",
       "4                                                     NaN\n",
       "                              ...                        \n",
       "8619    MDPEDEGVAGVMSVGPPAARLQEPVTFRDVAVDFTQEEWGQLDPTQ...\n",
       "8620                                                  NaN\n",
       "8621    METRPTALMSSTVAAAAPAAGAASRKESPGRWGLGEDPTGVSPSLQ...\n",
       "8622    MCPVDKAHRNQCQACRLKKCLQAGMNQDAVQNERQPRSTAQVHLDS...\n",
       "8623    METRPTALMSSTVAAAAPAAGAASRKESPGRWGLGEDPTGVSPSLQ...\n",
       "Name: protein_sequence, Length: 8624, dtype: object"
      ]
     },
     "execution_count": 61,
     "metadata": {},
     "output_type": "execute_result"
    }
   ],
   "source": [
    "df = pd.read_excel(\"DNA_TF_GO_prot.xlsx\", sheet_name = \"DNA_TF_GO_Prot_toronto\")\n",
    "df['translated_sequence']\n",
    "df['protein_sequence']\n",
    "\n",
    "#loop through all the sequences and build a fasta file"
   ]
  },
  {
   "cell_type": "code",
   "execution_count": 42,
   "metadata": {},
   "outputs": [
    {
     "data": {
      "text/plain": [
       "True"
      ]
     },
     "execution_count": 42,
     "metadata": {},
     "output_type": "execute_result"
    }
   ],
   "source": [
    "np.isnan(df['translated_sequence'][8620])"
   ]
  },
  {
   "cell_type": "code",
   "execution_count": 34,
   "metadata": {},
   "outputs": [
    {
     "data": {
      "text/plain": [
       "0       >ENSG00000001167_ENST00000353205\n",
       "1       >ENSG00000001167_ENST00000341376\n",
       "2       >ENSG00000004848_ENST00000379044\n",
       "3       >ENSG00000004848_ENST00000637993\n",
       "4       >ENSG00000004848_ENST00000636609\n",
       "                      ...               \n",
       "8619    >ENSG00000278129_ENST00000621650\n",
       "8620    >ENSG00000278570_ENST00000563709\n",
       "8621    >ENSG00000278570_ENST00000617575\n",
       "8622    >ENSG00000278570_ENST00000621736\n",
       "8623    >ENSG00000278570_ENST00000621098\n",
       "Name: ENSG_ENST, Length: 8624, dtype: object"
      ]
     },
     "execution_count": 34,
     "metadata": {},
     "output_type": "execute_result"
    }
   ],
   "source": [
    "df['ENSG_ENST']"
   ]
  },
  {
   "cell_type": "code",
   "execution_count": 63,
   "metadata": {},
   "outputs": [],
   "source": [
    "ofile = open(\"human_tf_cds.fasta\", \"w\")\n",
    "for i in range(len(df['ENSG_ENST'])):\n",
    "    if isinstance(df['protein_sequence'][i], str): #is the sequence a string or empty\n",
    "        ofile.write(df['ENSG_ENST'][i] + \"\\n\" + df['protein_sequence'][i] + \"\\n\")\n",
    "#do not forget to close it\n",
    "ofile.close()"
   ]
  },
  {
   "cell_type": "code",
   "execution_count": 52,
   "metadata": {},
   "outputs": [
    {
     "data": {
      "text/plain": [
       "nan"
      ]
     },
     "execution_count": 52,
     "metadata": {},
     "output_type": "execute_result"
    }
   ],
   "source": [
    "df['translated_sequence'][i]"
   ]
  },
  {
   "cell_type": "code",
   "execution_count": 56,
   "metadata": {},
   "outputs": [
    {
     "data": {
      "text/plain": [
       "nan"
      ]
     },
     "execution_count": 56,
     "metadata": {},
     "output_type": "execute_result"
    }
   ],
   "source": [
    "df['translated_sequence'][i]"
   ]
  },
  {
   "cell_type": "code",
   "execution_count": 46,
   "metadata": {},
   "outputs": [
    {
     "data": {
      "text/plain": [
       "4"
      ]
     },
     "execution_count": 46,
     "metadata": {},
     "output_type": "execute_result"
    }
   ],
   "source": [
    "i\n"
   ]
  },
  {
   "cell_type": "code",
   "execution_count": 18,
   "metadata": {},
   "outputs": [
    {
     "data": {
      "text/plain": [
       "Seq('DSRGTSLAEQLSWMAEPWVPGAWDLQLFLQGWSAVAPSRLTAASTPRVQAILLP...TML', HasStopCodon(ExtendedIUPACProtein(), '*'))"
      ]
     },
     "execution_count": 18,
     "metadata": {},
     "output_type": "execute_result"
    }
   ],
   "source": [
    "from Bio.Seq import Seq\n",
    "from Bio.Alphabet import IUPAC\n",
    "\n",
    "coding_dna = record.seq\n",
    "coding_dna.translate(table=\"Vertebrate Mitochondrial\")"
   ]
  },
  {
   "cell_type": "code",
   "execution_count": null,
   "metadata": {},
   "outputs": [],
   "source": [
    "class Transcript:\n",
    "    #primary transcripts of human TFs, will contain multiple isoforms and proteins    \n",
    "    def __init__(self, name):\n",
    "        self.name = name\n",
    "\n",
    "class Isoform:\n",
    "    #an isoform derived from a primary transcript, will generall contain one or zero proteins\n",
    "    def __init__(self, name):\n",
    "        self.name = name\n",
    "\n",
    "class TF:\n",
    "    #a  sequence of a transcription factor\n",
    "    def __init__(self, name, dna):\n",
    "        self.name = name\n",
    "        self.dna = dna #the dna sequence\n",
    "        self.aa = \"\" #the amino acid sequence"
   ]
  }
 ],
 "metadata": {
  "kernelspec": {
   "display_name": "Python 3",
   "language": "python",
   "name": "python3"
  },
  "language_info": {
   "codemirror_mode": {
    "name": "ipython",
    "version": 3
   },
   "file_extension": ".py",
   "mimetype": "text/x-python",
   "name": "python",
   "nbconvert_exporter": "python",
   "pygments_lexer": "ipython3",
   "version": "3.7.6"
  }
 },
 "nbformat": 4,
 "nbformat_minor": 4
}
